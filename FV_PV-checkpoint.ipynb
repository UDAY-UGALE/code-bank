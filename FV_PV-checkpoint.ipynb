{
 "cells": [
  {
   "cell_type": "markdown",
   "id": "c5533281",
   "metadata": {},
   "source": [
    "# future value\n"
   ]
  },
  {
   "cell_type": "code",
   "execution_count": 5,
   "id": "249b8b21",
   "metadata": {},
   "outputs": [],
   "source": [
    "def Future_value():\n",
    "    n=int(input(\"Enter the number of periods interest held: \"))\n",
    "    r=float(input(\"Enter the annual interest rate: \"))\n",
    "    PV=int(input(\"Enter the Value Present Value : \"))\n",
    "    \n",
    "    FV= PV*((1+r)**n)\n",
    "    \n",
    "    print(FV)"
   ]
  },
  {
   "cell_type": "code",
   "execution_count": null,
   "id": "79177dcb",
   "metadata": {},
   "outputs": [],
   "source": [
    "Future_value()"
   ]
  },
  {
   "cell_type": "markdown",
   "id": "b7a0d6e6",
   "metadata": {},
   "source": [
    "# present value\n"
   ]
  },
  {
   "cell_type": "code",
   "execution_count": null,
   "id": "9c9111c1",
   "metadata": {},
   "outputs": [],
   "source": [
    "def Present_value():\n",
    "    n=int(input(\"Enter the number of periods interest held: \"))\n",
    "    r=float(input(\"Enter the annual interest rate: \"))\n",
    "    FV=int(input(\"Enter the value of Future Value: \"))\n",
    "    \n",
    "    PV=FV/((1+r)**n)\n",
    "    print(PV)\n",
    "    \n",
    "    "
   ]
  },
  {
   "cell_type": "code",
   "execution_count": null,
   "id": "cc826f7a",
   "metadata": {},
   "outputs": [],
   "source": [
    "Present_value()"
   ]
  },
  {
   "cell_type": "markdown",
   "id": "2b575c0d",
   "metadata": {},
   "source": [
    "# compounding\n"
   ]
  },
  {
   "cell_type": "code",
   "execution_count": null,
   "id": "d8b8bf96",
   "metadata": {},
   "outputs": [],
   "source": [
    "def Compounding():\n",
    "    PV=int(input(\"Enter the present value: \"))\n",
    "    r=float(input(\"Enter the Annual interest rate: \"))\n",
    "    n=int(input(\"Enter the number of periods interset held: \"))\n",
    "    t=int(input(\"number of time periods elapsed: \"))\n",
    "    \n",
    "    FV=PV*(1+(r/n))**(n*t)\n",
    "    print(FV)"
   ]
  },
  {
   "cell_type": "code",
   "execution_count": null,
   "id": "a5006798",
   "metadata": {},
   "outputs": [],
   "source": [
    "Compounding()"
   ]
  },
  {
   "cell_type": "markdown",
   "id": "cb26e0ca",
   "metadata": {},
   "source": [
    "# Annuity Payment"
   ]
  },
  {
   "cell_type": "code",
   "execution_count": null,
   "id": "9396e0d1",
   "metadata": {},
   "outputs": [],
   "source": []
  },
  {
   "cell_type": "code",
   "execution_count": null,
   "id": "8a992afa",
   "metadata": {},
   "outputs": [],
   "source": []
  },
  {
   "cell_type": "code",
   "execution_count": null,
   "id": "824a69fe",
   "metadata": {},
   "outputs": [],
   "source": []
  },
  {
   "cell_type": "code",
   "execution_count": null,
   "id": "1a34b542",
   "metadata": {},
   "outputs": [],
   "source": []
  },
  {
   "cell_type": "code",
   "execution_count": null,
   "id": "fa467e84",
   "metadata": {},
   "outputs": [],
   "source": []
  },
  {
   "cell_type": "code",
   "execution_count": null,
   "id": "c431baac",
   "metadata": {},
   "outputs": [],
   "source": []
  },
  {
   "cell_type": "code",
   "execution_count": null,
   "id": "8861a5a4",
   "metadata": {},
   "outputs": [],
   "source": []
  },
  {
   "cell_type": "code",
   "execution_count": null,
   "id": "e661a99a",
   "metadata": {},
   "outputs": [],
   "source": []
  },
  {
   "cell_type": "code",
   "execution_count": 3,
   "id": "957def42",
   "metadata": {},
   "outputs": [
    {
     "name": "stdout",
     "output_type": "stream",
     "text": [
      "Enter the number of periods interest held: 2\n",
      "Enter the annual interest rate: 0.08\n",
      "Enter the Value Present Value : 100000\n",
      "116640.00000000001\n"
     ]
    }
   ],
   "source": [
    "Future_value()"
   ]
  },
  {
   "cell_type": "code",
   "execution_count": 5,
   "id": "d6cfcae3",
   "metadata": {},
   "outputs": [
    {
     "name": "stdout",
     "output_type": "stream",
     "text": [
      "Enter the number of periods interest held: 2\n",
      "Enter the annual interest rate: 0.08\n",
      "Enter the value of Future Value: 100000\n",
      "85733.88203017831\n"
     ]
    }
   ],
   "source": [
    " Present_value()"
   ]
  },
  {
   "cell_type": "code",
   "execution_count": null,
   "id": "b22d9dcf",
   "metadata": {},
   "outputs": [],
   "source": []
  },
  {
   "cell_type": "code",
   "execution_count": null,
   "id": "3c1a4a27",
   "metadata": {},
   "outputs": [],
   "source": []
  }
 ],
 "metadata": {
  "kernelspec": {
   "display_name": "Python 3 (ipykernel)",
   "language": "python",
   "name": "python3"
  },
  "language_info": {
   "codemirror_mode": {
    "name": "ipython",
    "version": 3
   },
   "file_extension": ".py",
   "mimetype": "text/x-python",
   "name": "python",
   "nbconvert_exporter": "python",
   "pygments_lexer": "ipython3",
   "version": "3.9.7"
  }
 },
 "nbformat": 4,
 "nbformat_minor": 5
}
