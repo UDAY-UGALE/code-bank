{
 "cells": [
  {
   "cell_type": "code",
   "execution_count": 1,
   "id": "79679373",
   "metadata": {},
   "outputs": [
    {
     "name": "stdout",
     "output_type": "stream",
     "text": [
      "5\n"
     ]
    }
   ],
   "source": [
    "add=lambda x,y: x+y\n",
    "print(add(1,4))"
   ]
  },
  {
   "cell_type": "code",
   "execution_count": 2,
   "id": "9d00da0e",
   "metadata": {},
   "outputs": [
    {
     "data": {
      "text/plain": [
       "15"
      ]
     },
     "execution_count": 2,
     "metadata": {},
     "output_type": "execute_result"
    }
   ],
   "source": [
    "mul=lambda x,y: x*y\n",
    "mul(5,3)"
   ]
  },
  {
   "cell_type": "code",
   "execution_count": 3,
   "id": "2b6f7dd2",
   "metadata": {},
   "outputs": [
    {
     "data": {
      "text/plain": [
       "625"
      ]
     },
     "execution_count": 3,
     "metadata": {},
     "output_type": "execute_result"
    }
   ],
   "source": [
    "squroot=lambda x,y:x**y\n",
    "squroot(5,4)"
   ]
  },
  {
   "cell_type": "code",
   "execution_count": 7,
   "id": "7f1d7786",
   "metadata": {},
   "outputs": [
    {
     "name": "stdout",
     "output_type": "stream",
     "text": [
      "Enter the PV number:500\n",
      "Enter the interest: 0.05\n",
      "enter the period of compounding: 2\n",
      "551.25\n"
     ]
    }
   ],
   "source": [
    "FV= lambda pv,r,n:pv*((1+r)**n)\n",
    "pv=int(input('Enter the PV number:'))\n",
    "r=float(input('Enter the interest: '))\n",
    "n= int(input('enter the period of compounding: '))\n",
    "print(FV(pv,r,n))\n"
   ]
  },
  {
   "cell_type": "code",
   "execution_count": null,
   "id": "dbdedb3b",
   "metadata": {},
   "outputs": [],
   "source": []
  }
 ],
 "metadata": {
  "kernelspec": {
   "display_name": "Python 3 (ipykernel)",
   "language": "python",
   "name": "python3"
  },
  "language_info": {
   "codemirror_mode": {
    "name": "ipython",
    "version": 3
   },
   "file_extension": ".py",
   "mimetype": "text/x-python",
   "name": "python",
   "nbconvert_exporter": "python",
   "pygments_lexer": "ipython3",
   "version": "3.9.7"
  }
 },
 "nbformat": 4,
 "nbformat_minor": 5
}
